{
 "cells": [
  {
   "cell_type": "code",
   "execution_count": 1,
   "metadata": {},
   "outputs": [],
   "source": [
    "import torch\n",
    "from utilities import *\n",
    "from generate_model import *\n",
    "from prepare_data import *\n",
    "from time import time"
   ]
  },
  {
   "cell_type": "code",
   "execution_count": 2,
   "metadata": {},
   "outputs": [],
   "source": [
    "_, _, test_loader = prep(1)"
   ]
  },
  {
   "cell_type": "code",
   "execution_count": 3,
   "metadata": {},
   "outputs": [
    {
     "name": "stdout",
     "output_type": "stream",
     "text": [
      "eye state 0\n"
     ]
    },
    {
     "data": {
      "image/png": "[encoded data removed]",
      "text/plain": [
       "<Figure size 640x480 with 1 Axes>"
      ]
     },
     "metadata": {},
     "output_type": "display_data"
    }
   ],
   "source": [
    "rand = np.random.randint(1000)\n",
    "\n",
    "for idx, data in enumerate(test_loader):\n",
    "    image = data[0]\n",
    "    label = data[0]\n",
    "\n",
    "    img = data[0].squeeze().numpy()\n",
    "    label = data[1].item()\n",
    "\n",
    "    if idx == rand:\n",
    "        print(\"eye state\", label)\n",
    "        plt.figure()\n",
    "        plt.imshow(img, cmap = 'gray')  \n",
    "        plt.show()\n",
    "        break"
   ]
  },
  {
   "cell_type": "code",
   "execution_count": 4,
   "metadata": {},
   "outputs": [
    {
     "name": "stdout",
     "output_type": "stream",
     "text": [
      "mobile net prediction:  0  | time taken:  0.04923701286315918\n"
     ]
    }
   ],
   "source": [
    "mobile_net = gen_mobile_net(False).to('cpu')\n",
    "mobile_net.load_state_dict(torch.load(r'mobile_net_saves\\2\\best_model.pth'))\n",
    "mobile_net.eval()\n",
    "stime = time()\n",
    "op = mobile_net(image)\n",
    "ftime = time()\n",
    "pred = torch.argmax(op).item()\n",
    "print(\"mobile net prediction: \", pred, ' | time taken: ', str(ftime - stime))"
   ]
  },
  {
   "cell_type": "code",
   "execution_count": 5,
   "metadata": {},
   "outputs": [
    {
     "name": "stdout",
     "output_type": "stream",
     "text": [
      "squeeze net prediction:  0  | time taken:  0.016906023025512695\n"
     ]
    }
   ],
   "source": [
    "squeeze_net = gen_squeeze_net(False).to('cpu')\n",
    "squeeze_net.load_state_dict(torch.load(r'squeeze_net_saves\\1\\best_model.pth'))\n",
    "squeeze_net.eval()\n",
    "stime = time()\n",
    "op = squeeze_net(image)\n",
    "ftime = time()\n",
    "pred = torch.argmax(op).item()\n",
    "print(\"squeeze net prediction: \", pred, ' | time taken: ', str(ftime - stime))"
   ]
  },
  {
   "cell_type": "markdown",
   "metadata": {},
   "source": [
    "## After warmup"
   ]
  },
  {
   "cell_type": "code",
   "execution_count": 6,
   "metadata": {},
   "outputs": [
    {
     "name": "stdout",
     "output_type": "stream",
     "text": [
      "warming up\n",
      "warmup done\n",
      "mobile net prediction:  0  | time taken:  0.020469188690185547\n"
     ]
    }
   ],
   "source": [
    "mobile_net = gen_mobile_net(False).to('cpu')\n",
    "mobile_net.load_state_dict(torch.load(r'mobile_net_saves\\2\\best_model.pth'))\n",
    "mobile_net.eval()\n",
    "warmup(mobile_net)\n",
    "stime = time()\n",
    "op = mobile_net(image)\n",
    "ftime = time()\n",
    "pred = torch.argmax(op).item()\n",
    "print(\"mobile net prediction: \", pred, ' | time taken: ', str(ftime - stime))"
   ]
  },
  {
   "cell_type": "code",
   "execution_count": 7,
   "metadata": {},
   "outputs": [
    {
     "name": "stdout",
     "output_type": "stream",
     "text": [
      "warming up\n",
      "warmup done\n",
      "squeeze net prediction:  0  | time taken:  0.005000114440917969\n"
     ]
    }
   ],
   "source": [
    "squeeze_net = gen_squeeze_net(False).to('cpu')\n",
    "squeeze_net.load_state_dict(torch.load(r'squeeze_net_saves\\1\\best_model.pth'))\n",
    "squeeze_net.eval()\n",
    "warmup(squeeze_net)\n",
    "stime = time()\n",
    "op = squeeze_net(image)\n",
    "ftime = time()\n",
    "pred = torch.argmax(op).item()\n",
    "print(\"squeeze net prediction: \", pred, ' | time taken: ', str(ftime - stime))"
   ]
  }
 ],
 "metadata": {
  "kernelspec": {
   "display_name": "Python 3",
   "language": "python",
   "name": "python3"
  },
  "language_info": {
   "codemirror_mode": {
    "name": "ipython",
    "version": 3
   },
   "file_extension": ".py",
   "mimetype": "text/x-python",
   "name": "python",
   "nbconvert_exporter": "python",
   "pygments_lexer": "ipython3",
   "version": "3.11.6"
  }
 },
 "nbformat": 4,
 "nbformat_minor": 2
}
